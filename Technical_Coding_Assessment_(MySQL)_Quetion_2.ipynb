{
  "cells": [
    {
      "cell_type": "markdown",
      "source": [
        "# Write a SQL statement to create the duplicate of the countries table named country_new with all structure and data.\n",
        "\n",
        "Here in the following is the structure of the table countries.\n",
        "\n",
        "\n",
        "\n",
        "+--------------+---------------+------+-----+---------+-------+\n",
        "\n",
        "| Field | Type | Null | Key | Default | Extra |\n",
        "\n",
        "+--------------+---------------+------+-----+---------+-------+\n",
        "\n",
        "| COUNTRY_ID | varchar(2) | YES | | NULL | |\n",
        "\n",
        "| COUNTRY_NAME | varchar(40) | YES | | NULL | |\n",
        "\n",
        "| REGION_ID | decimal(10,0) | YES | | NULL | |\n",
        "\n",
        "+--------------+---------------+------+-----+---------+-------+\n",
        "\n"
      ],
      "metadata": {
        "id": "KdijetujKI44"
      }
    },
    {
      "cell_type": "code",
      "source": [
        "# Creating DataBase\n",
        "create database Countries;\n",
        "\n",
        "#view databases \n",
        "show databases;\n",
        "\n",
        "#To select the database\n",
        "use  Countries;\n",
        "\n",
        "#view tables\n",
        "show tables;\n",
        "\n",
        "#Creating Table countries\n",
        "create table countries(Country_ID int primary key,Country_Name varchar(25),Region_ID char(25));\n",
        "\n",
        "# Inserting Values\n",
        "insert into countries values(1,\"Italy\",\"ITA\");\n",
        "insert into countries values(2,\"India\",\"IND\");\n",
        "insert into countries values(3,\"China\",\"CHN\");\n",
        "\n",
        "#To view the table\n",
        "select * from countries;\n",
        "\n",
        "\n",
        "#Creating a duplicate table countries_new \n",
        "\n",
        "create table countries_new(COUNTRY_ID VARCHAR(2),COUNTRY_NAME varchar(40),REGION_ID DECIMAL(10,0));\n",
        "\n",
        "#To view the table\n",
        "select * from countries_new;\n",
        "\n",
        "#To see the required output\n",
        "desc countries_new;\n"
      ],
      "metadata": {
        "id": "Bk9WvREmKBBI"
      },
      "execution_count": null,
      "outputs": []
    },
    {
      "cell_type": "code",
      "source": [],
      "metadata": {
        "id": "JuZESUdSKBCY"
      },
      "execution_count": null,
      "outputs": []
    },
    {
      "cell_type": "code",
      "source": [],
      "metadata": {
        "id": "b81-ddV5KBD9"
      },
      "execution_count": null,
      "outputs": []
    }
  ],
  "metadata": {
    "colab": {
      "provenance": []
    },
    "kernelspec": {
      "display_name": "Python 3",
      "name": "python3"
    }
  },
  "nbformat": 4,
  "nbformat_minor": 0
}